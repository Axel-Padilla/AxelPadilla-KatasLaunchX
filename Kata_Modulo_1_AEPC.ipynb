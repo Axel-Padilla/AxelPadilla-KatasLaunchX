{
  "cells": [
    {
      "cell_type": "markdown",
      "metadata": {},
      "source": [
        "## Kata 1 - Primer programa \n",
        "\n",
        "Oficial superior> \"¿Cadete?\"\n",
        "\n",
        "Usted > \"¿Sí, señora?\"\n",
        "\n",
        "Oficial superior> \"¿Puedes construir un programa que me muestre la fecha? La computadora del barco no venía con mucho en términos de programas de utilidad, por lo que necesitamos crear los que necesitamos. ¿Puedo confiar en ti con esto?\"\n",
        "\n",
        "Usted > \"Considéralo hecho\".\n",
        "\n",
        "Oficial superior> \"Excelente\".\n"
      ]
    },
    {
      "cell_type": "markdown",
      "metadata": {},
      "source": [
        "* Para trabajar con las fechas, debemos de importar el módulo *date*.\n",
        "* *Date* es como una clase, dentro contiene varios métodos a los cuales podemos \"llamar\" o \"invocar\" (o al menos así lo comprendí). Recordemos que para accesar a un método, se utiliza el operador del punto. Para resolver el problema, utilizamos el método de ***today( )***, el cual no recibe atributos."
      ]
    },
    {
      "cell_type": "code",
      "execution_count": 7,
      "metadata": {},
      "outputs": [
        {
          "name": "stdout",
          "output_type": "stream",
          "text": [
            "Today's date is: 2022-02-12\n"
          ]
        }
      ],
      "source": [
        "from datetime import date\n",
        "\n",
        "fecha = date.today() # Se obtiene la fecha y se asigna a una variable\n",
        "\n",
        "print(\"Today's date is: \" +str(fecha))\n",
        "\n",
        "# Nota: al querer imprimir texto con una fecha, debemos convertir la fecha a tipo de dato \"string\" o cadena.\n",
        "# Problema solucionado :)"
      ]
    },
    {
      "cell_type": "markdown",
      "metadata": {},
      "source": [
        "\n",
        "\n",
        "## Construir un convertidor de unidades\n",
        "\n",
        "El oficial superior> \"Necesito una cosa más: un programa de conversión entre parsecs y años luz. Tener un programa de este tipo podría ser realmente útil en el puente para trazar nuestro curso\".\n",
        "\n",
        "Tú> \"¡Lo haré!\"\n"
      ]
    },
    {
      "cell_type": "markdown",
      "metadata": {},
      "source": [
        "* Para trabajar con input, hay que considerar que los datos se almacenan como caracteres y como tal no se pueden operar."
      ]
    },
    {
      "cell_type": "code",
      "execution_count": 17,
      "metadata": {},
      "outputs": [
        {
          "name": "stdout",
          "output_type": "stream",
          "text": [
            "Conversor de unidades parsec-lighyears\n",
            "11.5678 parsec, is 37.729073768 lightyears\n"
          ]
        }
      ],
      "source": [
        "print('Conversor de unidades parsec-lighyears')\n",
        "\n",
        "# Nota: 1 parsec es 3.26156 lightyears\n",
        "\n",
        "parsec = input('Introduzca la cantidad de parsec: ')\n",
        "lightyears = 3.26156 * float(parsec)\n",
        "\n",
        "# Como introducimos un valor con input, este lo almacena como cadena de caracteres. Para poder operarlo,\n",
        "# hay que transformar antes a enteros o flotantes (pero que sean numéricos).\n",
        "\n",
        "print(str(parsec) + \" parsec, is \" + str(lightyears) + \" lightyears\")"
      ]
    }
  ],
  "metadata": {
    "interpreter": {
      "hash": "36380a7de2d5d3a6009d3e113ed0ddbb7398c46645b05c030af3c137c4e1acd0"
    },
    "kernel_info": {
      "name": "conda-env-py37_default-py"
    },
    "kernelspec": {
      "display_name": "py37_default",
      "language": "python",
      "name": "python3"
    },
    "language_info": {
      "codemirror_mode": {
        "name": "ipython",
        "version": 3
      },
      "file_extension": ".py",
      "mimetype": "text/x-python",
      "name": "python",
      "nbconvert_exporter": "python",
      "pygments_lexer": "ipython3",
      "version": "3.10.2"
    },
    "nteract": {
      "version": "nteract-front-end@1.0.0"
    },
    "orig_nbformat": 4
  },
  "nbformat": 4,
  "nbformat_minor": 2
}
